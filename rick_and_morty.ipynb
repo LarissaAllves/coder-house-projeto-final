{
 "cells": [
  {
   "cell_type": "code",
   "execution_count": null,
   "metadata": {},
   "outputs": [],
   "source": [
    "from functions import get_data_api\n",
    "from functions import convert_date\n",
    "from functions import replace_urls_with_names\n",
    "from functions import bd_save\n",
    "from functions import load_bd\n",
    "from functions import list_tables_bd\n",
    "import pandas as pd\n",
    "import matplotlib.pyplot as plt\n",
    "import json"
   ]
  },
  {
   "cell_type": "markdown",
   "metadata": {},
   "source": [
    "<h1 align=\"center\"><strong>ETAPA DE EXTRAÇÃO</strong></h1>\n"
   ]
  },
  {
   "cell_type": "markdown",
   "metadata": {},
   "source": [
    "### ***CHARACTERS***"
   ]
  },
  {
   "cell_type": "code",
   "execution_count": null,
   "metadata": {},
   "outputs": [],
   "source": [
    "def get_all_characters():\n",
    "    base = 'Characters'\n",
    "    etapa = ' Extração'\n",
    "    character_url_next = 'https://rickandmortyapi.com/api/character'\n",
    "\n",
    "    all_characters = []  \n",
    "    \n",
    "    while character_url_next:  \n",
    "        character_data = get_data_api(character_url_next, base, etapa) \n",
    "        character_url_next = character_data['info']['next'] \n",
    "        all_characters.extend(character_data['results'])  \n",
    "        \n",
    "    \n",
    "    return all_characters\n",
    "\n",
    "characters = get_all_characters()\n",
    "\n",
    "print(len(characters))"
   ]
  },
  {
   "cell_type": "code",
   "execution_count": null,
   "metadata": {},
   "outputs": [],
   "source": [
    "df_characters = pd.DataFrame(characters)\n",
    "\n",
    "df_characters.info()\n",
    "\n",
    "df_characters.head(2)"
   ]
  },
  {
   "cell_type": "markdown",
   "metadata": {},
   "source": []
  },
  {
   "cell_type": "markdown",
   "metadata": {},
   "source": [
    "### ***LOCATIONS***"
   ]
  },
  {
   "cell_type": "code",
   "execution_count": null,
   "metadata": {},
   "outputs": [],
   "source": [
    "def get_all_locations():\n",
    "\n",
    "    base = 'Locations'\n",
    "    etapa = ' Extração'\n",
    "    \n",
    "    location_url_next = 'https://rickandmortyapi.com/api/location'\n",
    "\n",
    "    all_locations = []  \n",
    "    \n",
    "    while location_url_next:  \n",
    "        location_data = get_data_api(location_url_next, base, etapa) \n",
    "        location_url_next = location_data['info']['next'] \n",
    "        all_locations.extend(location_data['results'])  \n",
    "        \n",
    "    \n",
    "    return  all_locations\n",
    "\n",
    "locations = get_all_locations()\n",
    "\n",
    "print(len(locations))"
   ]
  },
  {
   "cell_type": "code",
   "execution_count": null,
   "metadata": {},
   "outputs": [],
   "source": [
    "df_locations = pd.DataFrame(locations)\n",
    "\n",
    "df_locations.info()\n",
    "\n",
    "df_locations.head(2)"
   ]
  },
  {
   "cell_type": "markdown",
   "metadata": {},
   "source": [
    "### ***EPISODES***"
   ]
  },
  {
   "cell_type": "code",
   "execution_count": null,
   "metadata": {},
   "outputs": [],
   "source": [
    "def get_all_episodes():\n",
    "\n",
    " episode_url_next = 'https://rickandmortyapi.com/api/episode'\n",
    "\n",
    " base = \"Episodes\"\n",
    " etapa = \"Extração\"\n",
    "\n",
    " all_episodes = []\n",
    "\n",
    " while episode_url_next:\n",
    "  episode_data = get_data_api(episode_url_next, base, etapa)\n",
    "  episode_url_next = episode_data['info']['next']\n",
    "  all_episodes.extend(episode_data['results'])\n",
    "\n",
    " return all_episodes\n",
    "\n",
    "episodes = get_all_episodes()\n",
    "\n",
    "print(len(episodes))"
   ]
  },
  {
   "cell_type": "code",
   "execution_count": null,
   "metadata": {},
   "outputs": [],
   "source": [
    "df_episodes = pd.DataFrame(episodes)\n",
    "\n",
    "df_episodes.info()\n",
    "\n",
    "df_episodes.head(2)"
   ]
  },
  {
   "cell_type": "markdown",
   "metadata": {},
   "source": [
    "<h1 align=\"center\"><strong>ETAPA DE TRANSFORMAÇÃO</strong></h1>\n"
   ]
  },
  {
   "cell_type": "markdown",
   "metadata": {},
   "source": [
    "### **CHARACTERS**"
   ]
  },
  {
   "cell_type": "code",
   "execution_count": null,
   "metadata": {},
   "outputs": [],
   "source": [
    "\n",
    "df_characters[\"type\"] = df_characters[\"type\"].replace(\"\", \"unknown\")\n",
    "\n",
    "df_characters[\"name_origin\"] = df_characters[\"origin\"].apply(lambda name_origin: name_origin.get(\"name\"))\n",
    "df_characters[\"url_origin\"] = df_characters[\"origin\"].apply(lambda url_origin: url_origin.get(\"url\") )\n",
    "\n",
    "df_characters[\"location_name\"] = df_characters[\"location\"].apply(lambda location_name: location_name.get(\"name\"))\n",
    "df_characters[\"url_location\"] = df_characters[\"location\"].apply(lambda url_location: url_location.get(\"url\"))\n",
    "\n",
    "df_characters[\"total_episodes\"] = df_characters[\"episode\"].apply(len)\n",
    "\n",
    "\n",
    "df_characters.rename(columns={'url': 'character_url'}, inplace=True)\n",
    "\n",
    "df_characters = df_characters.drop(columns=[\"origin\", \"location\", \"created\", \"episode\"])\n",
    "\n",
    "\n",
    "df_characters.head()"
   ]
  },
  {
   "cell_type": "markdown",
   "metadata": {},
   "source": [
    "### ***LOCATIONS***"
   ]
  },
  {
   "cell_type": "code",
   "execution_count": null,
   "metadata": {},
   "outputs": [],
   "source": [
    "df_locations.head(2)\n",
    "\n"
   ]
  },
  {
   "cell_type": "code",
   "execution_count": null,
   "metadata": {},
   "outputs": [],
   "source": [
    "#Rename and drop columns\n",
    "df_locations.rename(columns={'residents': 'residents_name'}, inplace=True)\n",
    "df_locations.rename(columns={'url': 'location_url'}, inplace=True)\n",
    "df_locations = df_locations.drop(columns=[ \"created\"])\n",
    "\n",
    "\n",
    "df_locations['residents_name'] = df_locations['residents_name'].apply(\n",
    "    lambda urls: replace_urls_with_names(df_characters, 'character_url', 'name', urls)\n",
    ")\n",
    "\n",
    "\n",
    "df_locations[\"total_residents\"] = df_locations[\"residents_name\"].apply(len)\n",
    "\n",
    "\n",
    "# Garantir que os valores sejam do tipo strings para não dar erro na etapa de bd\n",
    "df_locations['residents_name'] = df_locations['residents_name'].apply(str)\n",
    "\n",
    "df_locations.head(2)"
   ]
  },
  {
   "cell_type": "markdown",
   "metadata": {},
   "source": [
    "### ***EPISODES***"
   ]
  },
  {
   "cell_type": "code",
   "execution_count": null,
   "metadata": {},
   "outputs": [],
   "source": [
    "df_episodes.head(2)"
   ]
  },
  {
   "cell_type": "code",
   "execution_count": null,
   "metadata": {},
   "outputs": [],
   "source": [
    "df_episodes.rename(columns={\n",
    "  'characters': 'characters_name',\n",
    "  'url': 'episode_url'\n",
    "  }, inplace=True)\n",
    "\n",
    "\n",
    "df_episodes['air_date'] = df_episodes['air_date'].apply(convert_date)\n",
    "df_episodes = df_episodes.drop(columns=[\"created\"])\n",
    "\n",
    "df_episodes['characters_name'] = df_episodes['characters_name'].apply(\n",
    "    lambda urls: replace_urls_with_names(df_characters, 'character_url', 'name', urls)\n",
    ")\n",
    "\n",
    "df_episodes[\"total_characters_in_the_episode\"] = df_episodes[\"characters_name\"].apply(len)\n",
    "\n",
    "\n",
    "# Garantir que os valores sejam strings\n",
    "df_episodes['characters_name'] = df_episodes['characters_name'].apply(str)\n",
    "\n",
    "\n",
    "\n",
    "df_episodes.head(8)\n"
   ]
  },
  {
   "cell_type": "markdown",
   "metadata": {},
   "source": [
    "<h1 align=\"center\"><strong>ETAPA DE BANCO DE DADOS</strong></h1>\n"
   ]
  },
  {
   "cell_type": "code",
   "execution_count": null,
   "metadata": {},
   "outputs": [],
   "source": [
    "path_db = 'rick-and-morty-api.db'\n",
    "table_name = 'characters'\n",
    "\n",
    "bd_save(df_characters, path_db, table_name, base='CharacterBase', stage='Banco de Dados')"
   ]
  },
  {
   "cell_type": "code",
   "execution_count": null,
   "metadata": {},
   "outputs": [],
   "source": [
    "path_db = 'rick-and-morty-api.db'\n",
    "table_name = 'locations'\n",
    "\n",
    "bd_save(df_locations, path_db, table_name, base='LocationBase', stage='Banco de Dados')\n"
   ]
  },
  {
   "cell_type": "code",
   "execution_count": null,
   "metadata": {},
   "outputs": [],
   "source": [
    "path_db = 'rick-and-morty-api.db'\n",
    "table_name = 'episodes'\n",
    "\n",
    "bd_save(df_episodes, path_db, table_name, base='EpisodeBase', stage='Banco de Dados')"
   ]
  },
  {
   "cell_type": "code",
   "execution_count": null,
   "metadata": {},
   "outputs": [],
   "source": [
    "print(\"Tabelas no banco de dados:\")\n",
    "\n",
    "list_tables_bd(path_db, base='Rick and Morty API', stage='Banco de Dados')"
   ]
  },
  {
   "cell_type": "code",
   "execution_count": null,
   "metadata": {},
   "outputs": [],
   "source": [
    "path_db = 'rick-and-morty-api.db'\n",
    "\n",
    "# PERGUNTAR PQ ESTA DANDO ESSE ERRO, DEVERIA SUBIR O ALERT\n",
    "\n",
    "load_bd(table_name, path_db, base='Episodes', stage='Banco de Dados')"
   ]
  },
  {
   "cell_type": "markdown",
   "metadata": {},
   "source": [
    "<h1 align=\"center\"><strong>ANÁLISE DOS DADOS</strong></h1>\n"
   ]
  },
  {
   "cell_type": "code",
   "execution_count": null,
   "metadata": {},
   "outputs": [],
   "source": [
    "df_locations.head()\n"
   ]
  },
  {
   "cell_type": "code",
   "execution_count": null,
   "metadata": {},
   "outputs": [],
   "source": [
    "df_characters.head()"
   ]
  },
  {
   "cell_type": "code",
   "execution_count": null,
   "metadata": {},
   "outputs": [],
   "source": [
    "df_episodes.head()"
   ]
  },
  {
   "cell_type": "markdown",
   "metadata": {},
   "source": [
    "Personagens com mais aparições"
   ]
  },
  {
   "cell_type": "code",
   "execution_count": null,
   "metadata": {},
   "outputs": [],
   "source": [
    "max_episodes = df_characters['total_episodes'].max()\n",
    "\n",
    "most_frequent_characters = df_characters[df_characters['total_episodes'] == max_episodes]\n",
    "\n",
    "\n",
    "most_frequent_characters\n"
   ]
  },
  {
   "cell_type": "code",
   "execution_count": null,
   "metadata": {},
   "outputs": [],
   "source": [
    "# Relação entre status e espécie\n",
    "status_species = df_characters.groupby(['species', 'status']).size().unstack(fill_value=0)\n",
    "\n",
    "\n",
    "status_species\n",
    "\n"
   ]
  },
  {
   "cell_type": "code",
   "execution_count": null,
   "metadata": {},
   "outputs": [],
   "source": [
    "\n",
    "status_species.plot(kind='bar', stacked=True, figsize=(10, 4), color=['#90EE90', '#F08080', '#D3D3D3'])\n",
    "plt.title('Relação entre Status e Espécie')\n",
    "plt.xlabel('Espécie')\n",
    "plt.ylabel('Número de Personagens')\n",
    "plt.legend(title='Status')\n",
    "plt.show()\n"
   ]
  }
 ],
 "metadata": {
  "kernelspec": {
   "display_name": "myenv",
   "language": "python",
   "name": "python3"
  },
  "language_info": {
   "codemirror_mode": {
    "name": "ipython",
    "version": 3
   },
   "file_extension": ".py",
   "mimetype": "text/x-python",
   "name": "python",
   "nbconvert_exporter": "python",
   "pygments_lexer": "ipython3",
   "version": "3.12.3"
  }
 },
 "nbformat": 4,
 "nbformat_minor": 2
}
